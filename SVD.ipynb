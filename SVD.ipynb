{
 "cells": [
  {
   "cell_type": "code",
   "execution_count": 38,
   "metadata": {},
   "outputs": [],
   "source": [
    "import scipy.io\n",
    "import matplotlib.pyplot as plt\n",
    "import numpy as np\n",
    "from sklearn.model_selection import train_test_split"
   ]
  },
  {
   "cell_type": "code",
   "execution_count": 39,
   "metadata": {},
   "outputs": [],
   "source": [
    "mat = scipy.io.loadmat('mnist-original.mat')\n",
    "data = np.transpose(mat['data'])\n",
    "label = np.transpose(mat['label'])"
   ]
  },
  {
   "cell_type": "code",
   "execution_count": 40,
   "metadata": {},
   "outputs": [],
   "source": [
    "X = [] # on créé une nouvelle liste qui va contenir nos matrices 28x28\n",
    "for i in range(len(data)):\n",
    "    X.append(data[i].reshape(28*28,1))\n",
    "\n",
    "def index_chiffre(n, y):  # elle nous renvoie un tableau contenant les indices représentants le chiffre n\n",
    "    index = []           # j'ai rajouté le y dans les arguments car je me servirai de cette fonction dans la suite\n",
    "    for i in range(len(y)):\n",
    "        if y[i]==n:\n",
    "            index.append(i)\n",
    "    return index"
   ]
  },
  {
   "cell_type": "code",
   "execution_count": 41,
   "metadata": {},
   "outputs": [],
   "source": [
    "X_train, X_test, y_train, y_test = [], [], [], [] # comme la base de donnée est ordonnée, pour pouvoir diviser en train et test\n",
    "for i in range(10): # on doit diviser en train test chaque set de chiffre, pour 0 pour 1 etc et on met tout dans nos matrices défeinies juste avant\n",
    "    temp_x = [] # variable temporaire qui va contenir les matrices représentants le chiffre i\n",
    "    temp_y = [] # variable temporaire qui va contenir les indexes représentants le chiffre i\n",
    "    for j in (index_chiffre(i,label)):\n",
    "        temp_x.append(X[j])\n",
    "        temp_y.append(label[j])\n",
    "    x_train, x_test, Y_train, Y_test = train_test_split(temp_x, temp_y, test_size=0.2) # on divise en train test pour chaque jeu de matrice représentant le chiffre i\n",
    "    X_train += x_train # à chaque itération on les mets dans nos matrices précédemment définies\n",
    "    X_test += x_test\n",
    "    y_train += Y_train\n",
    "    y_test += Y_test"
   ]
  },
  {
   "cell_type": "code",
   "execution_count": 42,
   "metadata": {},
   "outputs": [],
   "source": [
    "def concat(n,X,y):\n",
    "    res=np.empty((28*28,0)) #matrice vide avec une colonne(meme si j'ai mis 0) de 28*28 qui est compatible avec np.concatenate\n",
    "    for k in index_chiffre(n,y):\n",
    "        res = np.concatenate((res,X[k]), axis=1)\n",
    "    return res"
   ]
  },
  {
   "cell_type": "code",
   "execution_count": 43,
   "metadata": {},
   "outputs": [
    {
     "data": {
      "text/plain": [
       "(784, 5522)"
      ]
     },
     "execution_count": 43,
     "metadata": {},
     "output_type": "execute_result"
    }
   ],
   "source": [
    "np.shape(concat(0,X_train,y_train))"
   ]
  },
  {
   "cell_type": "code",
   "execution_count": 44,
   "metadata": {},
   "outputs": [],
   "source": [
    "mat_chiffres = [] #future liste de 10 matrices ou mat_chiffres[i]=la matrice avec tous les représentations de i en colonnes\n",
    "for k in range(10):\n",
    "    mat_chiffres.append(concat(k,X_train,y_train))"
   ]
  },
  {
   "cell_type": "markdown",
   "metadata": {},
   "source": [
    "**Fonction qui donne la norme de la résiduelle de la photo test \"x\" a l'espace du nombre \"n\" en utilisant les \"k\" premiers éléments de la base de l'espace**"
   ]
  },
  {
   "cell_type": "code",
   "execution_count": 49,
   "metadata": {},
   "outputs": [
    {
     "data": {
      "text/plain": [
       "10"
      ]
     },
     "execution_count": 49,
     "metadata": {},
     "output_type": "execute_result"
    }
   ],
   "source": [
    "def distance(x,n,k):\n",
    "    sol_min = 0\n",
    "    U,S,V = np.linalg.svd(mat_chiffres[n])\n",
    "    for i in range(k):\n",
    "        sol_min += (float(np.transpose(np.mat(U)[:,i])*np.mat(x))/S[i])*np.mat(V)[:,i]\n",
    "    return np.linalg.norm(np.mat(mat_chiffres[n])*sol_min - np.mat(x),2)\n",
    "\n",
    "len(mat_chiffres)"
   ]
  },
  {
   "cell_type": "code",
   "execution_count": 55,
   "metadata": {},
   "outputs": [],
   "source": [
    "def prediction(x,k):\n",
    "    mins = [distance(x,n,k) for n in range(10)]\n",
    "    minimum = mins[0]\n",
    "    indice = 0\n",
    "    for j in range(1,10):\n",
    "        if mins[j]<minimum:\n",
    "            minimum = mins[j]\n",
    "            indice = j\n",
    "    return indice"
   ]
  },
  {
   "cell_type": "code",
   "execution_count": 64,
   "metadata": {},
   "outputs": [
    {
     "name": "stdout",
     "output_type": "stream",
     "text": [
      "1\n",
      "2\n",
      "3\n",
      "4\n",
      "5\n",
      "6\n",
      "7\n",
      "8\n",
      "9\n"
     ]
    },
    {
     "data": {
      "text/plain": [
       "9"
      ]
     },
     "execution_count": 64,
     "metadata": {},
     "output_type": "execute_result"
    }
   ],
   "source": [
    "prediction(X_test[5000],3)"
   ]
  },
  {
   "cell_type": "code",
   "execution_count": 63,
   "metadata": {},
   "outputs": [
    {
     "data": {
      "text/plain": [
       "array([3.])"
      ]
     },
     "execution_count": 63,
     "metadata": {},
     "output_type": "execute_result"
    }
   ],
   "source": [
    "y_test[5000]"
   ]
  },
  {
   "cell_type": "code",
   "execution_count": null,
   "metadata": {},
   "outputs": [],
   "source": []
  }
 ],
 "metadata": {
  "kernelspec": {
   "display_name": "Python 3",
   "language": "python",
   "name": "python3"
  },
  "language_info": {
   "codemirror_mode": {
    "name": "ipython",
    "version": 3
   },
   "file_extension": ".py",
   "mimetype": "text/x-python",
   "name": "python",
   "nbconvert_exporter": "python",
   "pygments_lexer": "ipython3",
   "version": "3.7.4"
  }
 },
 "nbformat": 4,
 "nbformat_minor": 2
}
