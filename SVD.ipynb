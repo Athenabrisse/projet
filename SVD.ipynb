{
 "cells": [
  {
   "cell_type": "code",
   "execution_count": 1,
   "metadata": {},
   "outputs": [],
   "source": [
    "import scipy.io\n",
    "import matplotlib.pyplot as plt\n",
    "import numpy as np\n",
    "from sklearn.model_selection import train_test_split\n",
    "import time"
   ]
  },
  {
   "cell_type": "code",
   "execution_count": 2,
   "metadata": {},
   "outputs": [
    {
     "name": "stdout",
     "output_type": "stream",
     "text": [
      "0.0\n"
     ]
    }
   ],
   "source": [
    "start=time.time()\n",
    "end=time.time()\n",
    "print(end-start)"
   ]
  },
  {
   "cell_type": "code",
   "execution_count": 3,
   "metadata": {},
   "outputs": [],
   "source": [
    "mat = scipy.io.loadmat('mnist-original.mat')\n",
    "data = np.transpose(mat['data'])\n",
    "label = np.transpose(mat['label'])"
   ]
  },
  {
   "cell_type": "code",
   "execution_count": 4,
   "metadata": {},
   "outputs": [],
   "source": [
    "X = [] # on créé une nouvelle liste qui va contenir nos vecteurs 784\n",
    "for i in range(len(data)):\n",
    "    X.append(data[i].reshape(28*28,1))\n",
    "\n",
    "def index_chiffre(n,y):  # elle nous renvoie un tableau contenant les indices représentants le chiffre n\n",
    "    index = []           # j'ai rajouté le y dans les arguments car je me servirai de cette fonction dans la suite\n",
    "    for i in range(len(y)):\n",
    "        if y[i]==n:\n",
    "            index.append(i)\n",
    "    return index"
   ]
  },
  {
   "cell_type": "code",
   "execution_count": 5,
   "metadata": {},
   "outputs": [],
   "source": [
    "X_train, X_test, y_train, y_test = [], [], [], [] # comme la base de donnée est ordonnée, pour pouvoir diviser en train et test\n",
    "for i in range(10): # on doit diviser en train test chaque set de chiffre, pour 0 pour 1 etc et on met tout dans nos matrices défeinies juste avant\n",
    "    temp_x = [] # variable temporaire qui va contenir les matrices représentants le chiffre i\n",
    "    temp_y = [] # variable temporaire qui va contenir les indexes représentants le chiffre i\n",
    "    for j in index_chiffre(i,label):\n",
    "        temp_x.append(X[j])\n",
    "        temp_y.append(label[j])\n",
    "    x_train, x_test, Y_train, Y_test = train_test_split(temp_x, temp_y, test_size=0.2) # on divise en train test pour chaque jeu de matrice représentant le chiffre i\n",
    "    X_train += x_train # à chaque itération on les mets dans nos matrices précédemment définies\n",
    "    X_test += x_test\n",
    "    y_train += Y_train\n",
    "    y_test += Y_test"
   ]
  },
  {
   "cell_type": "code",
   "execution_count": 6,
   "metadata": {},
   "outputs": [],
   "source": [
    "def concat(k,X,y):\n",
    "    res = np.zeros((28*28,len(index_chiffre(k,y))))\n",
    "    for i,j in zip(index_chiffre(k,y),range(len(index_chiffre(k,y)))):\n",
    "        res[:,j]=X[i][:,0]\n",
    "    return res"
   ]
  },
  {
   "cell_type": "markdown",
   "metadata": {},
   "source": [
    "**Création de la liste de dix matrices représentative des 10 chiffres**"
   ]
  },
  {
   "cell_type": "code",
   "execution_count": 7,
   "metadata": {},
   "outputs": [
    {
     "name": "stdout",
     "output_type": "stream",
     "text": [
      "Temps de réalisation : 6.601289510726929 secondes\n"
     ]
    }
   ],
   "source": [
    "start=time.time()\n",
    "mat_chiffres = [] #future liste de 10 matrices ou mat_chiffres[i]=la matrice avec tous les représentations de i en colonnes\n",
    "for k in range(10):\n",
    "    mat_chiffres.append(concat(k,X_train,y_train)) \n",
    "end=time.time()\n",
    "print(\"Temps de réalisation : \" + str(end-start) + \" secondes\")"
   ]
  },
  {
   "cell_type": "markdown",
   "metadata": {},
   "source": [
    "**Création des décompositions SVD des dix matrices**"
   ]
  },
  {
   "cell_type": "code",
   "execution_count": 8,
   "metadata": {},
   "outputs": [
    {
     "name": "stdout",
     "output_type": "stream",
     "text": [
      "Temps de réalisation : 66.3808925151825 secondes\n"
     ]
    }
   ],
   "source": [
    "start=time.time()\n",
    "U,S,V = [],[],[]\n",
    "for k in range(10):\n",
    "    U_temp,S_temp,V_temp = np.linalg.svd(mat_chiffres[k])\n",
    "    U.append(U_temp)\n",
    "    S.append(S_temp)\n",
    "    V.append(V_temp)\n",
    "end=time.time()\n",
    "print(\"Temps de réalisation : \" + str(end-start) + \" secondes\")"
   ]
  },
  {
   "cell_type": "markdown",
   "metadata": {},
   "source": [
    "**Fonction qui donne la norme de la résiduelle de la photo test \"x\" a l'espace du nombre \"n\" en utilisant les \"k\" premiers éléments de la base de l'espace**"
   ]
  },
  {
   "cell_type": "code",
   "execution_count": 85,
   "metadata": {},
   "outputs": [],
   "source": [
    "def distance_archaic(x,n,k):\n",
    "    sol_min = 0\n",
    "    for i in range(k):\n",
    "        sol_min += (float(np.transpose(np.mat(U[n])[:,i])*np.mat(x))/S[n][i])*np.mat(V[n])[:,i]\n",
    "    return np.linalg.norm(np.mat(mat_chiffres[n])*sol_min - np.mat(x),2)\n",
    "\n",
    "def distance(x,n,k):\n",
    "    I = np.mat(np.eye(28*28))\n",
    "    Uk = np.transpose(np.transpose(np.mat(U[n]))[:k])\n",
    "    return np.linalg.norm((I-Uk*np.transpose(Uk))*np.mat(x),2)"
   ]
  },
  {
   "cell_type": "code",
   "execution_count": 86,
   "metadata": {},
   "outputs": [],
   "source": [
    "def prediction(x,k):\n",
    "    l=[distance(x,n,k) for n in range(10)]\n",
    "    return (float(l.index(min(l))))"
   ]
  },
  {
   "cell_type": "code",
   "execution_count": 112,
   "metadata": {},
   "outputs": [
    {
     "name": "stdout",
     "output_type": "stream",
     "text": [
      "3.0\n",
      "Temps de réalisation : 0.1775367259979248 secondes\n"
     ]
    }
   ],
   "source": [
    "start=time.time()\n",
    "print(prediction(X_test[5050],3))\n",
    "end=time.time()\n",
    "print(\"Temps de réalisation : \" + str(end-start) + \" secondes\")"
   ]
  },
  {
   "cell_type": "code",
   "execution_count": 111,
   "metadata": {},
   "outputs": [
    {
     "data": {
      "text/plain": [
       "<matplotlib.image.AxesImage at 0x211f06943c8>"
      ]
     },
     "execution_count": 111,
     "metadata": {},
     "output_type": "execute_result"
    },
    {
     "data": {
      "image/png": "[encoded data removed]",
      "text/plain": [
       "<Figure size 432x288 with 1 Axes>"
      ]
     },
     "metadata": {
      "needs_background": "light"
     },
     "output_type": "display_data"
    }
   ],
   "source": [
    "plt.imshow(X_test[5050].reshape(28,28))"
   ]
  },
  {
   "cell_type": "code",
   "execution_count": 114,
   "metadata": {},
   "outputs": [],
   "source": [
    "def calcul_pourcentage_tot(k):\n",
    "    prediction_l = [prediction(x,k) for x in X_test]\n",
    "    A =[i for i,j in zip(y_test,prediction_l) if i==j]\n",
    "    return len(A)*100/len(X_test)"
   ]
  },
  {
   "cell_type": "code",
   "execution_count": 115,
   "metadata": {},
   "outputs": [],
   "source": [
    "def calcul_pourcentage_num(n,k):\n",
    "    prediction_l = [prediction(X_test[x],k) for x in index_chiffre(n,y_test)]\n",
    "    res = 0\n",
    "    for x in prediction_l:\n",
    "        if x == n :\n",
    "            res += 1\n",
    "    return res*100/len(index_chiffre(n,y_test))"
   ]
  },
  {
   "cell_type": "code",
   "execution_count": 107,
   "metadata": {},
   "outputs": [
    {
     "name": "stdout",
     "output_type": "stream",
     "text": [
      "95.36567704561912\n",
      "Temps de réalisation : 136.44287419319153 secondes\n"
     ]
    }
   ],
   "source": [
    "start=time.time()\n",
    "print(calcul_pourcentage_num(0,3))\n",
    "end=time.time()\n",
    "print(\"Temps de réalisation : \" + str(end-start) + \" secondes\")"
   ]
  },
  {
   "cell_type": "markdown",
   "metadata": {},
   "source": [
    "**Calcul précision en fonction du chiffre pour 3 éléments de la base**"
   ]
  },
  {
   "cell_type": "code",
   "execution_count": 116,
   "metadata": {},
   "outputs": [
    {
     "name": "stdout",
     "output_type": "stream",
     "text": [
      "Temps de réalisation : 1353.8932738304138 secondes\n"
     ]
    }
   ],
   "source": [
    "start=time.time()\n",
    "pourcentage = [calcul_pourcentage_num(n,3) for n in range(10)]\n",
    "end=time.time()\n",
    "print(\"Temps de réalisation : \" + str(end-start) + \" secondes\")"
   ]
  },
  {
   "cell_type": "markdown",
   "metadata": {},
   "source": [
    "**Tracé de la précision en fonction du chiffre pour 3 éléments de la base**"
   ]
  },
  {
   "cell_type": "code",
   "execution_count": 147,
   "metadata": {
    "scrolled": true
   },
   "outputs": [
    {
     "data": {
      "text/plain": [
       "<function matplotlib.pyplot.show(*args, **kw)>"
      ]
     },
     "execution_count": 147,
     "metadata": {},
     "output_type": "execute_result"
    },
    {
     "data": {
      "image/png": "[encoded data removed]",
      "text/plain": [
       "<Figure size 864x432 with 1 Axes>"
      ]
     },
     "metadata": {
      "needs_background": "light"
     },
     "output_type": "display_data"
    }
   ],
   "source": [
    "plt.figure(figsize=(12,6))\n",
    "plt.plot(range(10),pourcentage)\n",
    "plt.xlabel('Chiffre')\n",
    "plt.ylabel('Précision')\n",
    "plt.show"
   ]
  },
  {
   "cell_type": "markdown",
   "metadata": {},
   "source": [
    "**Calcul précision totale pour 2 éléments de la base, environ 20 min**"
   ]
  },
  {
   "cell_type": "code",
   "execution_count": 118,
   "metadata": {},
   "outputs": [
    {
     "name": "stdout",
     "output_type": "stream",
     "text": [
      "86.93944587260782\n",
      "1386.2230422496796\n"
     ]
    }
   ],
   "source": [
    "start=time.time()\n",
    "print(calcul_pourcentage_tot(2))\n",
    "end=time.time()\n",
    "print(end-start)"
   ]
  },
  {
   "cell_type": "markdown",
   "metadata": {},
   "source": [
    "**Calcul de la précision totale en fonction du nombres d'éléments de la base utilisés, environ 3-4h**"
   ]
  },
  {
   "cell_type": "code",
   "execution_count": null,
   "metadata": {},
   "outputs": [],
   "source": [
    "start=time.time()\n",
    "pourcentage_tot = [calcul_pourcentage_tot(k) for k in range(1,11)]\n",
    "end=time.time()\n",
    "print(end-start)"
   ]
  },
  {
   "cell_type": "markdown",
   "metadata": {},
   "source": [
    "**Tracé de la précision totale en fonction du nombres d'éléments de la base utilisés**"
   ]
  },
  {
   "cell_type": "code",
   "execution_count": 132,
   "metadata": {},
   "outputs": [],
   "source": [
    "abscisses = list(range(1,11))\n",
    "plt.figure(figsize=(12,6))\n",
    "plt.plot(range(1,11),pourcentage_tot)\n",
    "plt.xlabel('# éléments de la base')\n",
    "plt.ylabel('Précision Totale')\n",
    "plt.show"
   ]
  },
  {
   "cell_type": "code",
   "execution_count": null,
   "metadata": {},
   "outputs": [],
   "source": []
  }
 ],
 "metadata": {
  "kernelspec": {
   "display_name": "Python 3",
   "language": "python",
   "name": "python3"
  },
  "language_info": {
   "codemirror_mode": {
    "name": "ipython",
    "version": 3
   },
   "file_extension": ".py",
   "mimetype": "text/x-python",
   "name": "python",
   "nbconvert_exporter": "python",
   "pygments_lexer": "ipython3",
   "version": "3.7.4"
  }
 },
 "nbformat": 4,
 "nbformat_minor": 2
}
