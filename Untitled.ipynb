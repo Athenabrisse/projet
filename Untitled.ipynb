{
 "cells": [
  {
   "cell_type": "code",
   "execution_count": 4,
   "metadata": {},
   "outputs": [
    {
     "data": {
      "text/plain": [
       "array([1, 2, 7, 1, 3])"
      ]
     },
     "execution_count": 4,
     "metadata": {},
     "output_type": "execute_result"
    }
   ],
   "source": [
    "import numpy as np\n",
    "def concat(n):\n",
    "    res=np.empty((28*28,0)) #matrice vide avec une colonne(meme si j'ai mis 0) de 28*28 qui est compatible avec np.concatenate\n",
    "    for k in range(n):\n",
    "        res = np.concatenate(([1,2,4+k], [1,3]), axis=0)\n",
    "    return res\n",
    "\n",
    "concat(4)"
   ]
  },
  {
   "cell_type": "markdown",
   "metadata": {},
   "source": [
    "#### Graphique des valeurs singulières pour le chiffre  3"
   ]
  },
  {
   "cell_type": "code",
   "execution_count": null,
   "metadata": {},
   "outputs": [],
   "source": [
    "import matplotlib.pyplot as plt\n",
    "import matplotlib.patches as patches \n",
    "\n",
    "N = mat_chiffre[4].shape[0]\n",
    "cutoff = (4/np.sqrt(3))*np.sqrt(N)\n",
    "\n",
    "fig1,ax1 = plt.subplots(1)\n",
    "\n",
    "ax1.semilogy(S,'-o', color='k', LineWidth = 2)\n",
    "ax1.semilogy(np.diag(S[:(r+1)]),'-o',color='r', LineWidth=2)\n",
    "ax1.plot(np.array([-20,N+20]),np.array([cutoff,cutoff]),'--',color='r')\n",
    "rect = patches.Rectangle((-5,20),100,200,LineWidth=2,LineStyle='--',Facecolor = color)\n",
    "ax1.add_patch(rect)\n",
    "plt.xlim((-10,610))\n",
    "plt.ylim((0.003,300))\n",
    "ax1.grid()\n",
    "plt.show()"
   ]
  },
  {
   "cell_type": "code",
   "execution_count": null,
   "metadata": {},
   "outputs": [],
   "source": [
    "fig2,ax2 = plt.subplots(1)\n",
    "\n",
    "ax2.semilogy(S,'-o',color='k', LineWidth=2)\n",
    "ax2.semilogy(np.diag(S[:(r+1)]),'o',color='r',LineWidth=2)\n",
    "ax2.plot(np.array([-20,N+20]),np.array([cutoff, cutoff]),'--',color='r')\n",
    "plt.xlim((-5,100))\n",
    "plt.ylim((20,200))\n",
    "ax2.grid()\n",
    "plt.show()"
   ]
  }
 ],
 "metadata": {
  "kernelspec": {
   "display_name": "Python 3",
   "language": "python",
   "name": "python3"
  },
  "language_info": {
   "codemirror_mode": {
    "name": "ipython",
    "version": 3
   },
   "file_extension": ".py",
   "mimetype": "text/x-python",
   "name": "python",
   "nbconvert_exporter": "python",
   "pygments_lexer": "ipython3",
   "version": "3.7.6"
  }
 },
 "nbformat": 4,
 "nbformat_minor": 4
}
