{
 "cells": [
  {
   "cell_type": "code",
   "execution_count": 23,
   "metadata": {},
   "outputs": [],
   "source": [
    "import numpy as np\n",
    "import pandas as pd\n",
    "import matplotlib.pyplot as plt"
   ]
  },
  {
   "cell_type": "code",
   "execution_count": 3,
   "metadata": {},
   "outputs": [],
   "source": [
    "from sklearn.datasets import load_digits "
   ]
  },
  {
   "cell_type": "code",
   "execution_count": 4,
   "metadata": {},
   "outputs": [],
   "source": [
    "digits = load_digits()"
   ]
  },
  {
   "cell_type": "code",
   "execution_count": 19,
   "metadata": {},
   "outputs": [],
   "source": [
    "X, y = digits.data, digits.target"
   ]
  },
  {
   "cell_type": "code",
   "execution_count": 60,
   "metadata": {},
   "outputs": [],
   "source": [
    "X_new = [] # transformation du grand vecteur 64x1 en une matrice 8x8 et ce pour chaque vecteur de X\n",
    "for i in range(len(X)):\n",
    "    X_new.append(X[i].reshape(8,8))"
   ]
  },
  {
   "cell_type": "code",
   "execution_count": 98,
   "metadata": {},
   "outputs": [],
   "source": [
    "def index_chiffre(n, y):  # elle nous renvoie un tableau contenant les indices représentants le chiffre n\n",
    "    index = []           # j'ai rajouté le y dans les arguments car je me servirai de cette fonction dans la suite\n",
    "    for i in range(len(y)):\n",
    "        if y[i]==n:\n",
    "            index.append(i)\n",
    "    return index"
   ]
  },
  {
   "cell_type": "code",
   "execution_count": 99,
   "metadata": {},
   "outputs": [],
   "source": [
    "def image_moyenne(n, X, y): # cette fonction renvoie la matrice moyenne pour le chiffre n\n",
    "    index = index_chiffre(n, y) # de même je rajoute l'argument X et y car je m'en servirai dans la suite\n",
    "    sum_matrice = np.zeros((8,8)) # la matrice qui sera utilisée dans la somme\n",
    "    for i in index:\n",
    "        sum_matrice += X[i] # on somme toutes les matrices représentants le chiffre n\n",
    "    return sum_matrice/len(index)"
   ]
  },
  {
   "cell_type": "code",
   "execution_count": 100,
   "metadata": {},
   "outputs": [
    {
     "data": {
      "image/png": "[encoded data removed]",
      "text/plain": [
       "<Figure size 1440x144 with 10 Axes>"
      ]
     },
     "metadata": {
      "needs_background": "light"
     },
     "output_type": "display_data"
    }
   ],
   "source": [
    "fig, ax = plt.subplots(1,10,figsize=(20,2))\n",
    "for i in range(10):\n",
    "    ax[i].imshow(image_moyenne(i, X_new, y), cmap='gray') \n",
    "    ax[i].set_title(\"mean\"+str(i))"
   ]
  },
  {
   "cell_type": "code",
   "execution_count": 88,
   "metadata": {},
   "outputs": [],
   "source": [
    "from sklearn.model_selection import train_test_split"
   ]
  },
  {
   "cell_type": "code",
   "execution_count": 343,
   "metadata": {},
   "outputs": [],
   "source": [
    "X_train, X_test, y_train, y_test = train_test_split(X_new, y, test_size=0.3) # on divise nos données en deux parties, train et test"
   ]
  },
  {
   "cell_type": "code",
   "execution_count": 344,
   "metadata": {},
   "outputs": [],
   "source": [
    "centroide_train = []\n",
    "for i in range(10): # on calcul le centroïde pour chaque chiffre i entre 0 et 9 avec X_train et y_train\n",
    "    centroide_train.append(image_moyenne(i, X_train, y_train)) "
   ]
  },
  {
   "cell_type": "code",
   "execution_count": 345,
   "metadata": {},
   "outputs": [],
   "source": [
    "def norme_eucli_matrice(A): # calcul de la norme euclidienne de la matrice\n",
    "    return np.trace(A@(A.transpose()))**(1/2)"
   ]
  },
  {
   "cell_type": "code",
   "execution_count": 346,
   "metadata": {},
   "outputs": [],
   "source": [
    "def centroide_proche(X, n): # ici n représente l'indice de X qui nous intéresse\n",
    "    minimum = norme_eucli_matrice(X[n]-centroide_train[0]) # on suppose que la plus petite valeur de différence est atteinte pour le centroide_train 0\n",
    "    j = 0 # l'indice qui nous permettra de savoir quel case de centroide_train notre X_n représente\n",
    "    for i in range(10): \n",
    "        if norme_eucli_matrice(X[n]-centroide_train[i]) < minimum:\n",
    "            minimum = norme_eucli_matrice(X[n]-centroide_train[i])\n",
    "            j=i # lorsqu'on a trouvé ce minimum on enregistre à quelle case il est atteint\n",
    "    return j    "
   ]
  },
  {
   "cell_type": "code",
   "execution_count": 347,
   "metadata": {},
   "outputs": [],
   "source": [
    "y_pred = [] # on crée une liste contenant les \"prédictions\" pour chaque case de X_test\n",
    "for n in range(len(X_test)): \n",
    "    y_pred.append(centroide_proche(X_test, n))"
   ]
  },
  {
   "cell_type": "code",
   "execution_count": 348,
   "metadata": {},
   "outputs": [
    {
     "name": "stdout",
     "output_type": "stream",
     "text": [
      "Le pourcentage de prédiction sur l'ensemble de test est 91.85185185185185\n"
     ]
    }
   ],
   "source": [
    "j = 0 # pour avoir une estimation brute du pourcentage on va calculer le nombre de fois où y_pred=y_test et on divise sur le nombre total\n",
    "for i in range(len(y_pred)):\n",
    "    if y_pred[i]==y_test[i]:\n",
    "        j+=1\n",
    "print(\"Le pourcentage de prédiction sur l'ensemble de test est \"+str(j/len(y_pred)*100))"
   ]
  },
  {
   "cell_type": "code",
   "execution_count": null,
   "metadata": {},
   "outputs": [],
   "source": []
  },
  {
   "cell_type": "code",
   "execution_count": null,
   "metadata": {},
   "outputs": [],
   "source": []
  }
 ],
 "metadata": {
  "kernelspec": {
   "display_name": "Python 3",
   "language": "python",
   "name": "python3"
  },
  "language_info": {
   "codemirror_mode": {
    "name": "ipython",
    "version": 3
   },
   "file_extension": ".py",
   "mimetype": "text/x-python",
   "name": "python",
   "nbconvert_exporter": "python",
   "pygments_lexer": "ipython3",
   "version": "3.7.7"
  }
 },
 "nbformat": 4,
 "nbformat_minor": 4
}
